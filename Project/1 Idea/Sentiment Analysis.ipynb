{
 "cells": [
  {
   "cell_type": "markdown",
   "metadata": {},
   "source": [
    "<a ><img src=\"Pictures/trashpanda.png\"  width=\"70\" align=\"left\"> </a>\n",
    "<div style=\"text-align: right\"> <h3><span style=\"color:gray\"> DRAFT </span> </h3> </div>\n",
    "\n",
    "<br>\n",
    "<br>\n",
    "<br>\n",
    "\n",
    "<a ><img src=\"Pictures/Icon.png\" Width=\"250\" align=\"center\"> </a>\n",
    "\n",
    "<br>\n",
    "<br>\n",
    "\n",
    "\n",
    "\n",
    "<h1><center>Sentiment Analysis</center></h1>\n",
    "<h2><center> <span style=\"font-weight:normal\"><font color='#022F73'> \n",
    "Natural Language Processing (NLP): <br> Analysis of Headlines with VADER and pysentiment </font>  </span></center></h2>\n",
    "\n",
    "\n",
    "<h3><center><font color='gray'>JONAS GOTTAL</font></center></h3>"
   ]
  },
  {
   "cell_type": "markdown",
   "metadata": {},
   "source": [
    "#### About this Notebook\n",
    "We will conduct a sentiment Analysis with ```VADER``` *(Valence Aware Dictionary for Sentiment Reasoning)*  <br> \n",
    "and ```pysentiment```, a pre-trained finance-focused Model, on headlines of several different news outlets with <br> \n",
    "impact on german financial markets and generate for each a dedicated sentiment KPI per trading day. <br> \n",
    "In the end we will have a sound time series  and - hopefully - some predictive results.<br> \n",
    "*The approach is a more explorative data analysis, therefore some parts will be redundant in the end.*\n",
    "<br>\n",
    "<br>\n"
   ]
  },
  {
   "cell_type": "markdown",
   "metadata": {
    "id": "kI5wU5naxzsa",
    "slideshow": {
     "slide_type": "slide"
    }
   },
   "source": [
    "<h1>Table of contents</h1>\n",
    "\n",
    "<div class=\"alert alert-block alert-info\" style=\"text-decoration:none; margin-top: 30px; background-color:#F2F2F2; border-color:#022F73\">\n",
    "    <span style=\"color:#022F73\">\n",
    "    <ol>\n",
    "      <li><a href=\"#1\"> <span style=\"color:#022F73;text-decoration:underline;text-decoration-color:#F2F2F2\" \n",
    "       >Motivation  </span> </a></li>\n",
    "      <li><a href=\"#2\"> <span style=\"color:#022F73;text-decoration:underline;text-decoration-color:#F2F2F2\" \n",
    "       >Approach  </span> </a></li>\n",
    "      <li><a href=\"#3\"> <span style=\"color:#022F73;text-decoration:underline;text-decoration-color:#F2F2F2\" \n",
    "       >Sentiment Scores with VADER and pysentiment</span> </a></li>\n",
    "      <li><a href=\"#4\"> <span style=\"color:#022F73;text-decoration:underline;text-decoration-color:#F2F2F2\" \n",
    "       >Upload on our MySQL Database</span> </a></li>\n",
    "      <li><a href=\"#5\"> <span style=\"color:#022F73;text-decoration:underline;text-decoration-color:#F2F2F2\" \n",
    "       >Schedule daily runs as .py script</span> </a></li>\n",
    "      <li><a href=\"#6\"> <span style=\"color:#022F73;text-decoration:underline;text-decoration-color:#F2F2F2\" \n",
    "       >Analysis of our unique dataset</span> </a></li>\n",
    "      <li><a href=\"#7\"> <span style=\"color:#022F73;text-decoration:underline;text-decoration-color:#F2F2F2\" \n",
    "       >Outlook</span> </a></li>\n",
    "    </ol>\n",
    "    </span>\n",
    "</div>"
   ]
  },
  {
   "cell_type": "code",
   "execution_count": 1,
   "metadata": {
    "code_folding": [
     0
    ]
   },
   "outputs": [],
   "source": [
    "#!pip install html5lib\n",
    "#!pip install ipython-sql\n",
    "#!pip install nltk\n",
    "#! pip install pysentiment2\n",
    "\n",
    "import requests\n",
    "from   bs4 import BeautifulSoup\n",
    "import html5lib\n",
    "import time\n",
    "import numpy as np\n",
    "import pandas as pd\n",
    "import matplotlib as mp\n",
    "import matplotlib.pyplot as plt\n",
    "import dtale\n",
    "import sqlalchemy\n",
    "from sqlalchemy import create_engine\n",
    "import pymysql\n",
    "pymysql.install_as_MySQLdb()\n",
    "import pysentiment2 as ps\n",
    "import nltk\n",
    "import re\n",
    "from collections import Counter\n",
    "from nltk.sentiment.vader import SentimentIntensityAnalyzer as SIA\n",
    "import seaborn as sns"
   ]
  },
  {
   "cell_type": "markdown",
   "metadata": {
    "heading_collapsed": true
   },
   "source": [
    "# 1. Motivation <a id=\"1\"></a>"
   ]
  },
  {
   "cell_type": "markdown",
   "metadata": {
    "hidden": true
   },
   "source": [
    "\n",
    "> <i> \"There are three ways to make a living in this business: be first, be smarter, or cheat. Well, I don't cheat. And although I like to think we have some pretty smart people here in this room, it sure is a hell of lot easier to just be first.\" </i> **- Margin Call** \n",
    "\n",
    "But to be the first to use market data, you would need to be in an optimal physical location (depending on the stock exchanges) and you have to have the fastest connection. Neither of those is true for me and many others. So to be successful - in this analogy of margin call - you would have to design/manipulate a unique set of data - and therefore be first again."
   ]
  },
  {
   "cell_type": "markdown",
   "metadata": {
    "heading_collapsed": true,
    "hidden": true
   },
   "source": [
    "## Why headlines of causal News Outlets?"
   ]
  },
  {
   "cell_type": "markdown",
   "metadata": {
    "hidden": true
   },
   "source": [
    "The market participants have drastically changed in the last years: The most influencing Trades are from the retail traders! \n",
    "(under the assumption that HF Traders don't change prices significantly and only profit from small fractions and arbitrage opportunities)\n",
    "\n",
    "<a ><img src=\"Pictures/Retail1.png\"  width=\"600\" align=\"left\"> </a>\n",
    "\n",
    "\n",
    "\n",
    "<a ><img src=\"Pictures/Retail2.png\"  width=\"350\" align=\"right\"> </a>\n"
   ]
  },
  {
   "cell_type": "markdown",
   "metadata": {
    "hidden": true
   },
   "source": [
    "And therefore we focus on the source of information of those retail traders: news outlets\n",
    "\n",
    "And because most only skim the contents and mostly only read the headline, we will focus on their sentiment.\n",
    "\n",
    "\n",
    "Why not use NLP on specific stocks (e.g. only news articles on AAPL )?\n",
    "My assumption is, that no (retail) investor will make a decision on one single (normal) news headline.\n",
    "But the entirety of the current market sentiment, might be a predictor of market activity and volatility and hence daily risk appetite. Therefore we are going to analyse the total addressable market of media outlets. \n",
    "\n",
    "(Also there are already too many (large) market participants who analyse the sentiment by single stocks for news articles and social media/forum posts {e.g. r/wsb}— so not an opportunity for strat arb!)"
   ]
  },
  {
   "cell_type": "markdown",
   "metadata": {
    "heading_collapsed": true,
    "hidden": true
   },
   "source": [
    "## Revision of our news scraping approach (see other notebook before)"
   ]
  },
  {
   "cell_type": "markdown",
   "metadata": {
    "heading_collapsed": true,
    "hidden": true
   },
   "source": [
    "#### Documentation: https://requests.readthedocs.io/en/master/user/advanced\n",
    "```j\n",
    "content = requests.get(url = url, headers = {'Accept': 'text/html'}, timeout=(3, 27))\n",
    "`````\n"
   ]
  },
  {
   "cell_type": "markdown",
   "metadata": {
    "heading_collapsed": true,
    "hidden": true
   },
   "source": [
    "### A. Bild"
   ]
  },
  {
   "cell_type": "code",
   "execution_count": 2,
   "metadata": {
    "hidden": true
   },
   "outputs": [
    {
     "data": {
      "text/plain": [
       "200"
      ]
     },
     "execution_count": 2,
     "metadata": {},
     "output_type": "execute_result"
    }
   ],
   "source": [
    "url = \"https://www.bild.de/politik/international/bild-international/home-44225950.bild.html\"\n",
    "\n",
    "content = requests.get(url = url, headers = {'Accept': 'text/html'}, timeout=(3, 27))\n",
    "\n",
    "content.status_code"
   ]
  },
  {
   "cell_type": "code",
   "execution_count": 3,
   "metadata": {
    "hidden": true,
    "scrolled": true
   },
   "outputs": [
    {
     "name": "stdout",
     "output_type": "stream",
     "text": [
      "12                                                 bild\n",
      "0                  Bill Gates on conspiracy theories\n",
      "1                    We have watched this war happen\n",
      "2  „The city looks like German cities during the ...\n",
      "3                   German troops pull out of Kunduz\n",
      "4               “Run! The planes are bombing again!”\n"
     ]
    }
   ],
   "source": [
    "bild = BeautifulSoup(content.content, 'html.parser')\n",
    "\n",
    "headlines = bild.find_all('h3')\n",
    "\n",
    "df_bild = pd.DataFrame([i.text for i in headlines], columns=[\"bild\"]).replace(\"\\n\", \"\", regex=True).replace(\"\\t\", \"\", regex=True)\n",
    "print (df_bild.size, df_bild.head())"
   ]
  },
  {
   "cell_type": "markdown",
   "metadata": {
    "heading_collapsed": true,
    "hidden": true
   },
   "source": [
    "### B. Spiegel"
   ]
  },
  {
   "cell_type": "code",
   "execution_count": 4,
   "metadata": {
    "hidden": true
   },
   "outputs": [
    {
     "data": {
      "text/plain": [
       "200"
      ]
     },
     "execution_count": 4,
     "metadata": {},
     "output_type": "execute_result"
    }
   ],
   "source": [
    "url = \"https://www.spiegel.de/international/\"\n",
    "\n",
    "content = requests.get(url = url, headers = {'Accept': 'text/html'}, timeout=(3, 27))\n",
    "\n",
    "content.status_code"
   ]
  },
  {
   "cell_type": "code",
   "execution_count": 5,
   "metadata": {
    "hidden": true,
    "scrolled": false
   },
   "outputs": [
    {
     "name": "stdout",
     "output_type": "stream",
     "text": [
      "28                                              spiegel\n",
      "0                        Where Did America Go Wrong?\n",
      "1         \"The World Could Have Learned from Africa\"\n",
      "2  Nagorno-Karabakh Settles in for Five Years of ...\n",
      "3  Geopolitics of COVID: The Unprecedented Challe...\n",
      "4    \"I'm Horrified By What Is Happening in Belarus\"\n"
     ]
    }
   ],
   "source": [
    "spiegel = BeautifulSoup(content.content, 'html.parser')\n",
    "\n",
    "headlines = spiegel.find_all(attrs={'class':'align-middle'})\n",
    "\n",
    "df_spiegel = pd.DataFrame([i.text for i in headlines], columns=[\"spiegel\"])\n",
    "print (df_spiegel.size, df_spiegel.head())"
   ]
  },
  {
   "cell_type": "markdown",
   "metadata": {
    "heading_collapsed": true,
    "hidden": true
   },
   "source": [
    "### C. Zeit"
   ]
  },
  {
   "cell_type": "code",
   "execution_count": 6,
   "metadata": {
    "hidden": true
   },
   "outputs": [
    {
     "data": {
      "text/plain": [
       "200"
      ]
     },
     "execution_count": 6,
     "metadata": {},
     "output_type": "execute_result"
    }
   ],
   "source": [
    "url = \"https://www.zeit.de/english/index\"\n",
    "\n",
    "content = requests.get(url = url, headers = {'Accept': 'text/html'}, timeout=(3, 27))\n",
    "\n",
    "content.status_code"
   ]
  },
  {
   "cell_type": "code",
   "execution_count": 7,
   "metadata": {
    "hidden": true,
    "scrolled": false
   },
   "outputs": [
    {
     "name": "stdout",
     "output_type": "stream",
     "text": [
      "20                                                 zeit\n",
      "0  Why Is the Risk of Coronavirus Transmission so...\n",
      "1          \"We Have Always Stigmatized Single Women\"\n",
      "2                                 The Irreconcilable\n",
      "3                 \"Trump is only performing fascism\"\n",
      "4                 How To Protect Yourself and Others\n"
     ]
    }
   ],
   "source": [
    "zeit = BeautifulSoup(content.content, 'html.parser')\n",
    "\n",
    "headlines = zeit.find_all(attrs={'class':'zon-teaser-standard__title'})\n",
    "\n",
    "df_zeit = pd.DataFrame([i.text for i in headlines], columns=[\"zeit\"])\n",
    "print (df_zeit.size, df_zeit.head())"
   ]
  },
  {
   "cell_type": "markdown",
   "metadata": {
    "heading_collapsed": true,
    "hidden": true
   },
   "source": [
    "### D. FAZ"
   ]
  },
  {
   "cell_type": "code",
   "execution_count": 8,
   "metadata": {
    "hidden": true
   },
   "outputs": [
    {
     "data": {
      "text/plain": [
       "200"
      ]
     },
     "execution_count": 8,
     "metadata": {},
     "output_type": "execute_result"
    }
   ],
   "source": [
    "url = \"https://www.faz.net/english/\"\n",
    "\n",
    "content = requests.get(url = url, headers = {'Accept': 'text/html'}, timeout=(3, 27))\n",
    "\n",
    "content.status_code"
   ]
  },
  {
   "cell_type": "code",
   "execution_count": 9,
   "metadata": {
    "hidden": true,
    "scrolled": true
   },
   "outputs": [
    {
     "name": "stdout",
     "output_type": "stream",
     "text": [
      "20                                                  faz\n",
      "0  „We have to fight misinformation because peopl...\n",
      "1                  Do not ruin the Internet!        \n",
      "2                              The Black Axe        \n",
      "3  Time for a German-British Friendship Treaty   ...\n",
      "4                 The Girl With The Red Coat        \n"
     ]
    }
   ],
   "source": [
    "faz = BeautifulSoup(content.content, 'html.parser')\n",
    "\n",
    "headlines = faz.find_all(attrs={'class':'tsr-Base_HeadlineText'})\n",
    "\n",
    "df_faz = pd.DataFrame([i.text for i in headlines], columns=[\"faz\"]).replace(\"\\n\", \"\", regex=True).replace(\"\\t\", \"\", regex=True)\n",
    "print (df_faz.size, df_faz.head())"
   ]
  },
  {
   "cell_type": "markdown",
   "metadata": {
    "heading_collapsed": true,
    "hidden": true
   },
   "source": [
    "### E. BBC"
   ]
  },
  {
   "cell_type": "code",
   "execution_count": 10,
   "metadata": {
    "hidden": true
   },
   "outputs": [
    {
     "data": {
      "text/plain": [
       "200"
      ]
     },
     "execution_count": 10,
     "metadata": {},
     "output_type": "execute_result"
    }
   ],
   "source": [
    "url = \"https://www.bbc.com/news\"\n",
    "\n",
    "content = requests.get(url = url, headers = {'Accept': 'text/html'}, timeout=(3, 27))\n",
    "\n",
    "content.status_code"
   ]
  },
  {
   "cell_type": "code",
   "execution_count": 11,
   "metadata": {
    "hidden": true,
    "scrolled": true
   },
   "outputs": [
    {
     "name": "stdout",
     "output_type": "stream",
     "text": [
      "54                                                  bbc\n",
      "0  Trump signals he is prepared to leave White House\n",
      "1  Trump signals he is prepared to leave White House\n",
      "2   'A genius': Huge crowds bid farewell to Maradona\n",
      "3        'This is War': Poland’s battle for abortion\n",
      "4  Politicians throw pig guts at each other in Ta...\n"
     ]
    }
   ],
   "source": [
    "bbc = BeautifulSoup(content.content, 'html.parser')\n",
    "\n",
    "headlines = bbc.find_all('h3')\n",
    "\n",
    "df_bbc = pd.DataFrame([i.text for i in headlines], columns=[\"bbc\"])\n",
    "print (df_bbc.size, df_bbc.head())"
   ]
  },
  {
   "cell_type": "markdown",
   "metadata": {
    "heading_collapsed": true,
    "hidden": true
   },
   "source": [
    "### F. CNN"
   ]
  },
  {
   "cell_type": "code",
   "execution_count": 12,
   "metadata": {
    "hidden": true
   },
   "outputs": [
    {
     "data": {
      "text/plain": [
       "200"
      ]
     },
     "execution_count": 12,
     "metadata": {},
     "output_type": "execute_result"
    }
   ],
   "source": [
    "url = \"https://www.cnn.com/business\"\n",
    "\n",
    "content = requests.get(url = url, headers = {'Accept': 'text/html'}, timeout=(3, 27))\n",
    "\n",
    "content.status_code"
   ]
  },
  {
   "cell_type": "code",
   "execution_count": 13,
   "metadata": {
    "hidden": true,
    "scrolled": true
   },
   "outputs": [
    {
     "name": "stdout",
     "output_type": "stream",
     "text": [
      "33                                                  cnn\n",
      "0  China slaps tariffs of up to 212% on Australia...\n",
      "1  A growing number of food brands want you to kn...\n",
      "2  Knife-edge Swiss vote could make businesses li...\n",
      "3  Opinion McDonald's CEO: We're thinking differe...\n",
      "4  'Tired of being sad.' The financial stress fro...\n"
     ]
    }
   ],
   "source": [
    "cnn = BeautifulSoup(content.content, 'html.parser')\n",
    "\n",
    "headlines = cnn.find_all(attrs={'class': 'cd__headline'})\n",
    "\n",
    "df_cnn = pd.DataFrame([i.text for i in headlines], columns=[\"cnn\"])\n",
    "print (df_cnn.size, df_cnn.head())"
   ]
  },
  {
   "cell_type": "markdown",
   "metadata": {
    "heading_collapsed": true,
    "hidden": true
   },
   "source": [
    "### G. CNBC"
   ]
  },
  {
   "cell_type": "code",
   "execution_count": 14,
   "metadata": {
    "hidden": true
   },
   "outputs": [
    {
     "data": {
      "text/plain": [
       "200"
      ]
     },
     "execution_count": 14,
     "metadata": {},
     "output_type": "execute_result"
    }
   ],
   "source": [
    "url = \"https://www.cnbc.com\"\n",
    "\n",
    "content = requests.get(url = url, headers = {'Accept': 'text/html'}, timeout=(3, 27))\n",
    "\n",
    "content.status_code"
   ]
  },
  {
   "cell_type": "code",
   "execution_count": 15,
   "metadata": {
    "hidden": true,
    "scrolled": false
   },
   "outputs": [
    {
     "name": "stdout",
     "output_type": "stream",
     "text": [
      "34                                                 cnbc\n",
      "0  U.S. stock futures edge higher as investors mo...\n",
      "1        Treasury yields edge lower amid low volumes\n",
      "2  After market's November surge, there may be le...\n",
      "3  Fed weighed adjusting bond purchases to provid...\n",
      "4  Britain tries to cool AstraZeneca concerns as ...\n"
     ]
    }
   ],
   "source": [
    "cnbc = BeautifulSoup(content.content, 'html.parser')\n",
    "\n",
    "headlines = cnbc.find_all(attrs={'class':'Card-title'})\n",
    "\n",
    "df_cnbc = pd.DataFrame([i.text for i in headlines], columns=[\"cnbc\"])\n",
    "print (df_cnbc.size, df_cnbc.head())"
   ]
  },
  {
   "cell_type": "markdown",
   "metadata": {
    "heading_collapsed": true,
    "hidden": true
   },
   "source": [
    "### H. New York Times"
   ]
  },
  {
   "cell_type": "markdown",
   "metadata": {
    "hidden": true
   },
   "source": [
    "Due to its sound reputation we will also use the sub sections and not only the main site."
   ]
  },
  {
   "cell_type": "markdown",
   "metadata": {
    "hidden": true
   },
   "source": [
    "For us relevant: \n",
    "- World https://www.nytimes.com/section/world\n",
    "- Politics https://www.nytimes.com/section/politics\n",
    "- Business https://www.nytimes.com/section/business\n",
    "- Tech https://www.nytimes.com/section/technology"
   ]
  },
  {
   "cell_type": "code",
   "execution_count": 16,
   "metadata": {
    "hidden": true
   },
   "outputs": [
    {
     "data": {
      "text/plain": [
       "200"
      ]
     },
     "execution_count": 16,
     "metadata": {},
     "output_type": "execute_result"
    }
   ],
   "source": [
    "url = \"https://www.nytimes.com/section/world\"\n",
    "\n",
    "content = requests.get(url = url, headers = {'Accept': 'text/html'}, timeout=(3, 27))\n",
    "\n",
    "content.status_code"
   ]
  },
  {
   "cell_type": "code",
   "execution_count": 17,
   "metadata": {
    "hidden": true
   },
   "outputs": [
    {
     "name": "stdout",
     "output_type": "stream",
     "text": [
      "44                                                nyt_w\n",
      "0  Argentina, and Latin America, Mourn Maradona a...\n",
      "1  A Soaring Monument to Beauty in China Is Stirr...\n",
      "2  Australian Military Moves to Dismiss Soldiers ...\n",
      "3  ‘The Crown’ Stokes an Uproar Over Fact vs. Ent...\n",
      "4  E.U. Border Agency Accused of Covering Up Migr...\n"
     ]
    }
   ],
   "source": [
    "nyt_w = BeautifulSoup(content.content, 'html.parser')\n",
    "\n",
    "headlines = nyt_w.find_all(name=\"h2\")\n",
    "\n",
    "df_nyt_w = pd.DataFrame([i.text for i in headlines], columns=[\"nyt_w\"]).iloc[1:].reset_index(drop=True)\n",
    "print (df_nyt_w.size, df_nyt_w.head())"
   ]
  },
  {
   "cell_type": "code",
   "execution_count": 18,
   "metadata": {
    "hidden": true
   },
   "outputs": [
    {
     "data": {
      "text/plain": [
       "200"
      ]
     },
     "execution_count": 18,
     "metadata": {},
     "output_type": "execute_result"
    }
   ],
   "source": [
    "url = \"https://www.nytimes.com/section/politics\"\n",
    "\n",
    "content = requests.get(url = url, headers = {'Accept': 'text/html'}, timeout=(3, 27))\n",
    "\n",
    "content.status_code"
   ]
  },
  {
   "cell_type": "code",
   "execution_count": 19,
   "metadata": {
    "hidden": true
   },
   "outputs": [
    {
     "name": "stdout",
     "output_type": "stream",
     "text": [
      "18                                                nyt_p\n",
      "0  ‘Loser’: How a Lifelong Fear Bookended Trump’s...\n",
      "1  Military’s Role in Vaccine Will Be Strictly Be...\n",
      "2  Trump, Still Claiming Victory, Says He Will Le...\n",
      "3  Senate Democrats Face Power Struggle for Top J...\n",
      "4  Trump, Still Claiming Victory, Says He Will Le...\n"
     ]
    }
   ],
   "source": [
    "nyt_p = BeautifulSoup(content.content, 'html.parser')\n",
    "\n",
    "headlines = nyt_p.find_all(name=\"h2\")\n",
    "\n",
    "df_nyt_p = pd.DataFrame([i.text for i in headlines], columns=[\"nyt_p\"]).iloc[1:].reset_index(drop=True)\n",
    "print (df_nyt_p.size, df_nyt_p.head())"
   ]
  },
  {
   "cell_type": "code",
   "execution_count": 20,
   "metadata": {
    "hidden": true
   },
   "outputs": [
    {
     "data": {
      "text/plain": [
       "200"
      ]
     },
     "execution_count": 20,
     "metadata": {},
     "output_type": "execute_result"
    }
   ],
   "source": [
    "url = \"https://www.nytimes.com/section/business\"\n",
    "\n",
    "content = requests.get(url = url, headers = {'Accept': 'text/html'}, timeout=(3, 27))\n",
    "\n",
    "content.status_code"
   ]
  },
  {
   "cell_type": "code",
   "execution_count": 21,
   "metadata": {
    "hidden": true
   },
   "outputs": [
    {
     "name": "stdout",
     "output_type": "stream",
     "text": [
      "35                                                nyt_b\n",
      "0  Pushed by Pandemic, Amazon Goes on a Hiring Sp...\n",
      "1  Brexit Is Nipping at London’s Role as a Financ...\n",
      "2  Black Friday Live Updates: Holiday Shopping in...\n",
      "3  ‘Tokenized’: Inside Black Workers’ Struggles a...\n",
      "4  This Year’s Black Friday Designer Fashion Sale...\n"
     ]
    }
   ],
   "source": [
    "nyt_b = BeautifulSoup(content.content, 'html.parser')\n",
    "\n",
    "headlines = nyt_b.find_all(name=\"h2\")\n",
    "\n",
    "df_nyt_b = pd.DataFrame([i.text for i in headlines], columns=[\"nyt_b\"]).iloc[1:].reset_index(drop=True)\n",
    "print (df_nyt_b.size, df_nyt_b.head())"
   ]
  },
  {
   "cell_type": "code",
   "execution_count": 22,
   "metadata": {
    "hidden": true
   },
   "outputs": [
    {
     "data": {
      "text/plain": [
       "200"
      ]
     },
     "execution_count": 22,
     "metadata": {},
     "output_type": "execute_result"
    }
   ],
   "source": [
    "url = \"https://www.nytimes.com/section/technology\"\n",
    "\n",
    "content = requests.get(url = url, headers = {'Accept': 'text/html'}, timeout=(3, 27))\n",
    "\n",
    "content.status_code"
   ]
  },
  {
   "cell_type": "code",
   "execution_count": 23,
   "metadata": {
    "hidden": true,
    "scrolled": true
   },
   "outputs": [
    {
     "name": "stdout",
     "output_type": "stream",
     "text": [
      "23                                                nyt_t\n",
      "0  Patients of a Vermont Hospital Are Left ‘in th...\n",
      "1  It’s Time for a Digital Detox. (You Know You N...\n",
      "2  Facebook Struggles to Balance Civility and Growth\n",
      "3  Meet GPT-3. It Has Learned to Code (and Blog a...\n",
      "4                                Personal Technology\n"
     ]
    }
   ],
   "source": [
    "nyt_t = BeautifulSoup(content.content, 'html.parser')\n",
    "\n",
    "headlines = nyt_t.find_all(name=\"h2\")\n",
    "\n",
    "df_nyt_t = pd.DataFrame([i.text for i in headlines], columns=[\"nyt_t\"]).iloc[1:].reset_index(drop=True)\n",
    "print (df_nyt_t.size, df_nyt_t.head())"
   ]
  },
  {
   "cell_type": "markdown",
   "metadata": {
    "heading_collapsed": true
   },
   "source": [
    "# 2. Approach <a id=\"2\"></a>"
   ]
  },
  {
   "cell_type": "markdown",
   "metadata": {
    "hidden": true
   },
   "source": [
    "> <i>\"Natural language processing (NLP) is a subfield of linguistics, computer science, and artificial intelligence concerned with the interactions between computers and human language, in particular how to program computers to process and analyze large amounts of natural language data.\" </i> - Wikipedia"
   ]
  },
  {
   "cell_type": "markdown",
   "metadata": {
    "hidden": true
   },
   "source": [
    "Sentiment analysis is a text analysis method that detects polarity (e.g. a positive or negative opinion) within the text, whether a whole document, paragraph, sentence, or clause.\n",
    "\n",
    "Sentiment analysis aims to measure the attitude, sentiments, evaluations, attitudes, and emotions of a speaker/writer based on the computational treatment of subjectivity in a text."
   ]
  },
  {
   "cell_type": "markdown",
   "metadata": {
    "heading_collapsed": true,
    "hidden": true
   },
   "source": [
    "## ```VADER```"
   ]
  },
  {
   "cell_type": "markdown",
   "metadata": {
    "hidden": true
   },
   "source": [
    "VADER ( Valence Aware Dictionary for Sentiment Reasoning) is a model used for text sentiment analysis that is sensitive to both polarity (positive/negative) and intensity (strength) of emotion. It is available in the ```NLTK``` package and can be applied directly to unlabeled text data.\n",
    "\n",
    "VADER sentimental analysis relies on a dictionary that maps lexical features to emotion intensities known as sentiment scores. The sentiment score of a text can be obtained by summing up the intensity of each word in the text.\n",
    "\n",
    "For example- Words like ‘love’, ‘enjoy’, ‘happy’, ‘like’ all convey a positive sentiment. Also VADER is intelligent enough to understand the basic context of these words, such as “did not love” as a negative statement. It also understands the emphasis of capitalization and punctuation, such as “ENJOY”\n",
    "\n",
    "### Polarity classification\n",
    "\n",
    "We won’t try to determine if a sentence is objective or subjective, fact or opinion. Rather, we care only if the text expresses a positive, negative or neutral opinion."
   ]
  },
  {
   "cell_type": "markdown",
   "metadata": {
    "heading_collapsed": true,
    "hidden": true
   },
   "source": [
    "## ```pysentiment```"
   ]
  },
  {
   "cell_type": "markdown",
   "metadata": {
    "hidden": true
   },
   "source": [
    "This is a library for sentiment analysis in dictionary framework. Two dictionaries are provided in the library, namely, *[Harvard IV-4](http://www.wjh.harvard.edu/~inquirer/homecat.htm)* and *[Loughran and McDonald Financial Sentiment Dictionaries](https://sraf.nd.edu/)*, which are sentiment dictionaries for general and financial sentiment analysis."
   ]
  },
  {
   "cell_type": "markdown",
   "metadata": {
    "hidden": true
   },
   "source": [
    "##### Introduction\n",
    "\n",
    "```Positive``` and ```Negative``` are word counts for the words in positive and negative sets.\n",
    "\n",
    "```Polarity``` and ```Subjectivity``` are calculated in the same way of [Lydia](http://www.cs.sunysb.edu/~skiena/lydia/) system.\n",
    "\n",
    "The formula for Polarity is:\n",
    "\n",
    "$$\n",
    "Polarity = \\frac{Pos - Neg}{Pos + Neg}\n",
    "$$\n",
    "\n",
    "The formula for Subjectivity is:\n",
    "\n",
    "$$\n",
    "Subjectivity = \\frac{Pos + Neg}{count}\n",
    "$$\n"
   ]
  },
  {
   "cell_type": "markdown",
   "metadata": {
    "heading_collapsed": true
   },
   "source": [
    "# 3. Sentiment Scores  <a id=\"3\"></a>"
   ]
  },
  {
   "cell_type": "markdown",
   "metadata": {
    "heading_collapsed": true,
    "hidden": true
   },
   "source": [
    "## ... with VADER <a id=\"3\"></a>"
   ]
  },
  {
   "cell_type": "markdown",
   "metadata": {
    "hidden": true
   },
   "source": [
    "Let's have a look at our polarity scores with VADER!"
   ]
  },
  {
   "cell_type": "code",
   "execution_count": 24,
   "metadata": {
    "hidden": true
   },
   "outputs": [
    {
     "name": "stderr",
     "output_type": "stream",
     "text": [
      "[nltk_data] Downloading package vader_lexicon to\n",
      "[nltk_data]     /Users/jonas/nltk_data...\n",
      "[nltk_data]   Package vader_lexicon is already up-to-date!\n"
     ]
    }
   ],
   "source": [
    "nltk.download(\"vader_lexicon\")\n",
    "\n",
    "def get_score(row):\n",
    "    sid=SIA()\n",
    "    score=sid.polarity_scores(row)\n",
    "    return score[\"compound\"]"
   ]
  },
  {
   "cell_type": "code",
   "execution_count": 25,
   "metadata": {
    "hidden": true
   },
   "outputs": [],
   "source": [
    "df_bild_score = df_bild[\"bild\"].apply(get_score)\n",
    "df_bild_final = pd.concat([df_bild, df_bild_score ], axis=1, sort=False).rename(columns={\"bild\": \"bild\", \"bild\": \"score\"}, errors=\"raise\")"
   ]
  },
  {
   "cell_type": "code",
   "execution_count": 26,
   "metadata": {
    "hidden": true
   },
   "outputs": [
    {
     "data": {
      "text/html": [
       "<div>\n",
       "<style scoped>\n",
       "    .dataframe tbody tr th:only-of-type {\n",
       "        vertical-align: middle;\n",
       "    }\n",
       "\n",
       "    .dataframe tbody tr th {\n",
       "        vertical-align: top;\n",
       "    }\n",
       "\n",
       "    .dataframe thead th {\n",
       "        text-align: right;\n",
       "    }\n",
       "</style>\n",
       "<table border=\"1\" class=\"dataframe\">\n",
       "  <thead>\n",
       "    <tr style=\"text-align: right;\">\n",
       "      <th></th>\n",
       "      <th>score</th>\n",
       "      <th>score</th>\n",
       "    </tr>\n",
       "  </thead>\n",
       "  <tbody>\n",
       "    <tr>\n",
       "      <th>0</th>\n",
       "      <td>Bill Gates on conspiracy theories</td>\n",
       "      <td>-0.5267</td>\n",
       "    </tr>\n",
       "    <tr>\n",
       "      <th>1</th>\n",
       "      <td>We have watched this war happen</td>\n",
       "      <td>-0.6833</td>\n",
       "    </tr>\n",
       "    <tr>\n",
       "      <th>2</th>\n",
       "      <td>„The city looks like German cities during the ...</td>\n",
       "      <td>0.3612</td>\n",
       "    </tr>\n",
       "    <tr>\n",
       "      <th>3</th>\n",
       "      <td>German troops pull out of Kunduz</td>\n",
       "      <td>0.0000</td>\n",
       "    </tr>\n",
       "    <tr>\n",
       "      <th>4</th>\n",
       "      <td>“Run! The planes are bombing again!”</td>\n",
       "      <td>0.0000</td>\n",
       "    </tr>\n",
       "    <tr>\n",
       "      <th>5</th>\n",
       "      <td>Church bombed to ruins</td>\n",
       "      <td>-0.4404</td>\n",
       "    </tr>\n",
       "    <tr>\n",
       "      <th>6</th>\n",
       "      <td>Navalny: Sanction Putin's closest circle</td>\n",
       "      <td>0.0000</td>\n",
       "    </tr>\n",
       "    <tr>\n",
       "      <th>7</th>\n",
       "      <td>China is celebrating,the world is suffering</td>\n",
       "      <td>-0.4767</td>\n",
       "    </tr>\n",
       "    <tr>\n",
       "      <th>8</th>\n",
       "      <td>Why the US is withdrawing from the Open Skies ...</td>\n",
       "      <td>0.0000</td>\n",
       "    </tr>\n",
       "    <tr>\n",
       "      <th>9</th>\n",
       "      <td>The Thai king’s secret torture prison</td>\n",
       "      <td>-0.8020</td>\n",
       "    </tr>\n",
       "  </tbody>\n",
       "</table>\n",
       "</div>"
      ],
      "text/plain": [
       "                                               score   score\n",
       "0                  Bill Gates on conspiracy theories -0.5267\n",
       "1                    We have watched this war happen -0.6833\n",
       "2  „The city looks like German cities during the ...  0.3612\n",
       "3                   German troops pull out of Kunduz  0.0000\n",
       "4               “Run! The planes are bombing again!”  0.0000\n",
       "5                             Church bombed to ruins -0.4404\n",
       "6          Navalny: Sanction Putin's closest circle   0.0000\n",
       "7        China is celebrating,the world is suffering -0.4767\n",
       "8  Why the US is withdrawing from the Open Skies ...  0.0000\n",
       "9              The Thai king’s secret torture prison -0.8020"
      ]
     },
     "execution_count": 26,
     "metadata": {},
     "output_type": "execute_result"
    }
   ],
   "source": [
    "df_bild_final.head(10)"
   ]
  },
  {
   "cell_type": "markdown",
   "metadata": {
    "hidden": true
   },
   "source": [
    "Not surprising, that **torture**, **bombed to ruins** and **conspiracy theories** don't have the most positive connotation. "
   ]
  },
  {
   "cell_type": "markdown",
   "metadata": {
    "hidden": true
   },
   "source": [
    "But because the number of Articles differ from news outlet to news outlet, we will only include the more robust mean of our scores:"
   ]
  },
  {
   "cell_type": "code",
   "execution_count": 27,
   "metadata": {
    "hidden": true
   },
   "outputs": [
    {
     "data": {
      "text/plain": [
       "score   -0.213992\n",
       "dtype: float64"
      ]
     },
     "execution_count": 27,
     "metadata": {},
     "output_type": "execute_result"
    }
   ],
   "source": [
    "daily_bild = df_bild_final[\"score\"].mean()\n",
    "daily_bild"
   ]
  },
  {
   "cell_type": "code",
   "execution_count": 28,
   "metadata": {
    "hidden": true
   },
   "outputs": [
    {
     "data": {
      "text/plain": [
       "-0.21399166666666666"
      ]
     },
     "execution_count": 28,
     "metadata": {},
     "output_type": "execute_result"
    }
   ],
   "source": [
    "#To wrap it up:\n",
    "bild_score = df_bild[\"bild\"].apply(get_score)\n",
    "daily_bild = bild_score.mean()\n",
    "daily_bild"
   ]
  },
  {
   "cell_type": "code",
   "execution_count": 29,
   "metadata": {
    "hidden": true
   },
   "outputs": [],
   "source": [
    "#Now for all:\n",
    "news = [\"bild\", \"spiegel\", \"zeit\", \"faz\", \"bbc\", \"cnn\", \"cnbc\", \"nyt_w\", \"nyt_p\", \"nyt_b\", \"nyt_t\"]\n",
    "for k in news:\n",
    "    exec(f'{k}_score = df_{k}[\"{k}\"].apply(get_score)')\n",
    "    exec(f'vader_{k} = {k}_score.mean()') "
   ]
  },
  {
   "cell_type": "markdown",
   "metadata": {
    "heading_collapsed": true,
    "hidden": true
   },
   "source": [
    "## with [```pysentiment``` ](https://nickderobertis.github.io/pysentiment/)"
   ]
  },
  {
   "cell_type": "markdown",
   "metadata": {
    "hidden": true
   },
   "source": [
    "We have two different dictionaries, namely *[Harvard IV-4](http://www.wjh.harvard.edu/~inquirer/homecat.htm)* and *[Loughran and McDonald Financial Sentiment Dictionaries](https://sraf.nd.edu/)*. Therefore we have two different *models*:"
   ]
  },
  {
   "cell_type": "code",
   "execution_count": 30,
   "metadata": {
    "hidden": true
   },
   "outputs": [],
   "source": [
    "hiv4 = ps.HIV4()\n",
    "lm = ps.LM()"
   ]
  },
  {
   "cell_type": "markdown",
   "metadata": {
    "hidden": true
   },
   "source": [
    "Next we define our ```pyscore``` "
   ]
  },
  {
   "cell_type": "code",
   "execution_count": 31,
   "metadata": {
    "hidden": true
   },
   "outputs": [],
   "source": [
    "def get_pyscore(row,model):\n",
    "    return pd.Series(model.get_score(model.tokenize(text=row)))"
   ]
  },
  {
   "cell_type": "markdown",
   "metadata": {
    "hidden": true
   },
   "source": [
    "Let's use our example with Bild again:"
   ]
  },
  {
   "cell_type": "code",
   "execution_count": 32,
   "metadata": {
    "hidden": true
   },
   "outputs": [],
   "source": [
    "bild_score_h = df_bild[\"bild\"].apply(get_pyscore, model=hiv4)\n",
    "bild_score_h.columns = ['Positive_h', 'Negative_h', 'Polarity_h', 'Subjectivity_h']\n",
    "bild_score_l = df_bild[\"bild\"].apply(get_pyscore, model=lm)\n",
    "bild_score_l.columns = ['Positive_l', 'Negative_l', 'Polarity_l', 'Subjectivity_l']\n",
    "\n",
    "bild_scores=pd.concat([bild_score_h, bild_score_l], axis=1)"
   ]
  },
  {
   "cell_type": "code",
   "execution_count": 33,
   "metadata": {
    "hidden": true
   },
   "outputs": [
    {
     "data": {
      "text/html": [
       "<div>\n",
       "<style scoped>\n",
       "    .dataframe tbody tr th:only-of-type {\n",
       "        vertical-align: middle;\n",
       "    }\n",
       "\n",
       "    .dataframe tbody tr th {\n",
       "        vertical-align: top;\n",
       "    }\n",
       "\n",
       "    .dataframe thead th {\n",
       "        text-align: right;\n",
       "    }\n",
       "</style>\n",
       "<table border=\"1\" class=\"dataframe\">\n",
       "  <thead>\n",
       "    <tr style=\"text-align: right;\">\n",
       "      <th></th>\n",
       "      <th>Positive_h</th>\n",
       "      <th>Negative_h</th>\n",
       "      <th>Polarity_h</th>\n",
       "      <th>Subjectivity_h</th>\n",
       "      <th>Positive_l</th>\n",
       "      <th>Negative_l</th>\n",
       "      <th>Polarity_l</th>\n",
       "      <th>Subjectivity_l</th>\n",
       "    </tr>\n",
       "  </thead>\n",
       "  <tbody>\n",
       "    <tr>\n",
       "      <th>0</th>\n",
       "      <td>0.0</td>\n",
       "      <td>1.0</td>\n",
       "      <td>-0.999999</td>\n",
       "      <td>0.333333</td>\n",
       "      <td>0.0</td>\n",
       "      <td>1.0</td>\n",
       "      <td>-0.999999</td>\n",
       "      <td>0.333333</td>\n",
       "    </tr>\n",
       "    <tr>\n",
       "      <th>1</th>\n",
       "      <td>0.0</td>\n",
       "      <td>1.0</td>\n",
       "      <td>-0.999999</td>\n",
       "      <td>0.333333</td>\n",
       "      <td>0.0</td>\n",
       "      <td>0.0</td>\n",
       "      <td>0.000000</td>\n",
       "      <td>0.000000</td>\n",
       "    </tr>\n",
       "    <tr>\n",
       "      <th>2</th>\n",
       "      <td>2.0</td>\n",
       "      <td>1.0</td>\n",
       "      <td>0.333333</td>\n",
       "      <td>0.750000</td>\n",
       "      <td>0.0</td>\n",
       "      <td>0.0</td>\n",
       "      <td>0.000000</td>\n",
       "      <td>0.000000</td>\n",
       "    </tr>\n",
       "    <tr>\n",
       "      <th>3</th>\n",
       "      <td>0.0</td>\n",
       "      <td>0.0</td>\n",
       "      <td>0.000000</td>\n",
       "      <td>0.000000</td>\n",
       "      <td>0.0</td>\n",
       "      <td>0.0</td>\n",
       "      <td>0.000000</td>\n",
       "      <td>0.000000</td>\n",
       "    </tr>\n",
       "    <tr>\n",
       "      <th>4</th>\n",
       "      <td>0.0</td>\n",
       "      <td>2.0</td>\n",
       "      <td>-1.000000</td>\n",
       "      <td>0.666666</td>\n",
       "      <td>0.0</td>\n",
       "      <td>0.0</td>\n",
       "      <td>0.000000</td>\n",
       "      <td>0.000000</td>\n",
       "    </tr>\n",
       "    <tr>\n",
       "      <th>5</th>\n",
       "      <td>0.0</td>\n",
       "      <td>2.0</td>\n",
       "      <td>-1.000000</td>\n",
       "      <td>1.000000</td>\n",
       "      <td>0.0</td>\n",
       "      <td>0.0</td>\n",
       "      <td>0.000000</td>\n",
       "      <td>0.000000</td>\n",
       "    </tr>\n",
       "    <tr>\n",
       "      <th>6</th>\n",
       "      <td>0.0</td>\n",
       "      <td>1.0</td>\n",
       "      <td>-0.999999</td>\n",
       "      <td>0.166667</td>\n",
       "      <td>0.0</td>\n",
       "      <td>0.0</td>\n",
       "      <td>0.000000</td>\n",
       "      <td>0.000000</td>\n",
       "    </tr>\n",
       "    <tr>\n",
       "      <th>7</th>\n",
       "      <td>2.0</td>\n",
       "      <td>1.0</td>\n",
       "      <td>0.333333</td>\n",
       "      <td>1.000000</td>\n",
       "      <td>0.0</td>\n",
       "      <td>1.0</td>\n",
       "      <td>-0.999999</td>\n",
       "      <td>0.333333</td>\n",
       "    </tr>\n",
       "    <tr>\n",
       "      <th>8</th>\n",
       "      <td>2.0</td>\n",
       "      <td>0.0</td>\n",
       "      <td>1.000000</td>\n",
       "      <td>0.500000</td>\n",
       "      <td>0.0</td>\n",
       "      <td>0.0</td>\n",
       "      <td>0.000000</td>\n",
       "      <td>0.000000</td>\n",
       "    </tr>\n",
       "    <tr>\n",
       "      <th>9</th>\n",
       "      <td>0.0</td>\n",
       "      <td>3.0</td>\n",
       "      <td>-1.000000</td>\n",
       "      <td>0.750000</td>\n",
       "      <td>0.0</td>\n",
       "      <td>0.0</td>\n",
       "      <td>0.000000</td>\n",
       "      <td>0.000000</td>\n",
       "    </tr>\n",
       "    <tr>\n",
       "      <th>10</th>\n",
       "      <td>1.0</td>\n",
       "      <td>1.0</td>\n",
       "      <td>0.000000</td>\n",
       "      <td>1.000000</td>\n",
       "      <td>0.0</td>\n",
       "      <td>1.0</td>\n",
       "      <td>-0.999999</td>\n",
       "      <td>0.500000</td>\n",
       "    </tr>\n",
       "    <tr>\n",
       "      <th>11</th>\n",
       "      <td>0.0</td>\n",
       "      <td>1.0</td>\n",
       "      <td>-0.999999</td>\n",
       "      <td>0.333333</td>\n",
       "      <td>0.0</td>\n",
       "      <td>0.0</td>\n",
       "      <td>0.000000</td>\n",
       "      <td>0.000000</td>\n",
       "    </tr>\n",
       "  </tbody>\n",
       "</table>\n",
       "</div>"
      ],
      "text/plain": [
       "    Positive_h  Negative_h  Polarity_h  Subjectivity_h  Positive_l  \\\n",
       "0          0.0         1.0   -0.999999        0.333333         0.0   \n",
       "1          0.0         1.0   -0.999999        0.333333         0.0   \n",
       "2          2.0         1.0    0.333333        0.750000         0.0   \n",
       "3          0.0         0.0    0.000000        0.000000         0.0   \n",
       "4          0.0         2.0   -1.000000        0.666666         0.0   \n",
       "5          0.0         2.0   -1.000000        1.000000         0.0   \n",
       "6          0.0         1.0   -0.999999        0.166667         0.0   \n",
       "7          2.0         1.0    0.333333        1.000000         0.0   \n",
       "8          2.0         0.0    1.000000        0.500000         0.0   \n",
       "9          0.0         3.0   -1.000000        0.750000         0.0   \n",
       "10         1.0         1.0    0.000000        1.000000         0.0   \n",
       "11         0.0         1.0   -0.999999        0.333333         0.0   \n",
       "\n",
       "    Negative_l  Polarity_l  Subjectivity_l  \n",
       "0          1.0   -0.999999        0.333333  \n",
       "1          0.0    0.000000        0.000000  \n",
       "2          0.0    0.000000        0.000000  \n",
       "3          0.0    0.000000        0.000000  \n",
       "4          0.0    0.000000        0.000000  \n",
       "5          0.0    0.000000        0.000000  \n",
       "6          0.0    0.000000        0.000000  \n",
       "7          1.0   -0.999999        0.333333  \n",
       "8          0.0    0.000000        0.000000  \n",
       "9          0.0    0.000000        0.000000  \n",
       "10         1.0   -0.999999        0.500000  \n",
       "11         0.0    0.000000        0.000000  "
      ]
     },
     "execution_count": 33,
     "metadata": {},
     "output_type": "execute_result"
    }
   ],
   "source": [
    "bild_scores"
   ]
  },
  {
   "cell_type": "markdown",
   "metadata": {
    "hidden": true
   },
   "source": [
    "The results seem a bit more binary in comparison to our VADER results\n",
    "Also we should drop the columns *Positive* and *Negative*, because they don't have a lot of meaning to us - the polarity and subjectivity scores are aggregated from them."
   ]
  },
  {
   "cell_type": "code",
   "execution_count": 34,
   "metadata": {
    "hidden": true
   },
   "outputs": [],
   "source": [
    "bild_score_h = df_bild[\"bild\"].apply(get_pyscore, model=hiv4).drop(['Positive', 'Negative'], axis=1)\n",
    "bild_score_h.columns = ['Polarity_h', 'Subjectivity_h']\n",
    "\n",
    "bild_score_l = df_bild[\"bild\"].apply(get_pyscore, model=lm).drop(['Positive', 'Negative'], axis=1)\n",
    "bild_score_l.columns = [ 'Polarity_l', 'Subjectivity_l']"
   ]
  },
  {
   "cell_type": "code",
   "execution_count": 35,
   "metadata": {
    "hidden": true
   },
   "outputs": [],
   "source": [
    "bild_scores = pd.concat([bild_score_h, bild_score_l], axis=1)"
   ]
  },
  {
   "cell_type": "code",
   "execution_count": 36,
   "metadata": {
    "hidden": true
   },
   "outputs": [],
   "source": [
    "bild_scores =  (bild_scores.mean().to_frame().T)"
   ]
  },
  {
   "cell_type": "code",
   "execution_count": 37,
   "metadata": {
    "hidden": true
   },
   "outputs": [],
   "source": [
    "bild_scores.insert(loc=0, column='bild', value=daily_bild)\n"
   ]
  },
  {
   "cell_type": "code",
   "execution_count": 38,
   "metadata": {
    "hidden": true
   },
   "outputs": [
    {
     "data": {
      "text/html": [
       "<div>\n",
       "<style scoped>\n",
       "    .dataframe tbody tr th:only-of-type {\n",
       "        vertical-align: middle;\n",
       "    }\n",
       "\n",
       "    .dataframe tbody tr th {\n",
       "        vertical-align: top;\n",
       "    }\n",
       "\n",
       "    .dataframe thead th {\n",
       "        text-align: right;\n",
       "    }\n",
       "</style>\n",
       "<table border=\"1\" class=\"dataframe\">\n",
       "  <thead>\n",
       "    <tr style=\"text-align: right;\">\n",
       "      <th></th>\n",
       "      <th>bild</th>\n",
       "      <th>Polarity_h</th>\n",
       "      <th>Subjectivity_h</th>\n",
       "      <th>Polarity_l</th>\n",
       "      <th>Subjectivity_l</th>\n",
       "    </tr>\n",
       "  </thead>\n",
       "  <tbody>\n",
       "    <tr>\n",
       "      <th>0</th>\n",
       "      <td>-0.213992</td>\n",
       "      <td>-0.444444</td>\n",
       "      <td>0.569444</td>\n",
       "      <td>-0.25</td>\n",
       "      <td>0.097222</td>\n",
       "    </tr>\n",
       "  </tbody>\n",
       "</table>\n",
       "</div>"
      ],
      "text/plain": [
       "       bild  Polarity_h  Subjectivity_h  Polarity_l  Subjectivity_l\n",
       "0 -0.213992   -0.444444        0.569444       -0.25        0.097222"
      ]
     },
     "execution_count": 38,
     "metadata": {},
     "output_type": "execute_result"
    }
   ],
   "source": [
    "bild_scores"
   ]
  },
  {
   "cell_type": "markdown",
   "metadata": {
    "hidden": true
   },
   "source": [
    "Now a bit more compact: "
   ]
  },
  {
   "cell_type": "code",
   "execution_count": 39,
   "metadata": {
    "hidden": true
   },
   "outputs": [],
   "source": [
    "score_h = df_bild[\"bild\"].apply(get_pyscore, model=hiv4).drop(['Positive', 'Negative'], axis=1)\n",
    "score_h.columns = ['Polarity_h', 'Subjectivity_h']\n",
    "\n",
    "score_l = df_bild[\"bild\"].apply(get_pyscore, model=lm).drop(['Positive', 'Negative'], axis=1)\n",
    "score_l.columns = [ 'Polarity_l', 'Subjectivity_l']\n",
    "\n",
    "scores = pd.concat([score_h, score_l], axis=1)\n",
    "scores = scores.mean().to_frame().T\n",
    "scores.insert(loc=0, column='bild', value=daily_bild)\n",
    "bild_scores = scores"
   ]
  },
  {
   "cell_type": "code",
   "execution_count": 40,
   "metadata": {
    "hidden": true
   },
   "outputs": [
    {
     "data": {
      "text/html": [
       "<div>\n",
       "<style scoped>\n",
       "    .dataframe tbody tr th:only-of-type {\n",
       "        vertical-align: middle;\n",
       "    }\n",
       "\n",
       "    .dataframe tbody tr th {\n",
       "        vertical-align: top;\n",
       "    }\n",
       "\n",
       "    .dataframe thead th {\n",
       "        text-align: right;\n",
       "    }\n",
       "</style>\n",
       "<table border=\"1\" class=\"dataframe\">\n",
       "  <thead>\n",
       "    <tr style=\"text-align: right;\">\n",
       "      <th></th>\n",
       "      <th>bild</th>\n",
       "      <th>Polarity_h</th>\n",
       "      <th>Subjectivity_h</th>\n",
       "      <th>Polarity_l</th>\n",
       "      <th>Subjectivity_l</th>\n",
       "    </tr>\n",
       "  </thead>\n",
       "  <tbody>\n",
       "    <tr>\n",
       "      <th>0</th>\n",
       "      <td>-0.213992</td>\n",
       "      <td>-0.444444</td>\n",
       "      <td>0.569444</td>\n",
       "      <td>-0.25</td>\n",
       "      <td>0.097222</td>\n",
       "    </tr>\n",
       "  </tbody>\n",
       "</table>\n",
       "</div>"
      ],
      "text/plain": [
       "       bild  Polarity_h  Subjectivity_h  Polarity_l  Subjectivity_l\n",
       "0 -0.213992   -0.444444        0.569444       -0.25        0.097222"
      ]
     },
     "execution_count": 40,
     "metadata": {},
     "output_type": "execute_result"
    }
   ],
   "source": [
    "bild_scores"
   ]
  },
  {
   "cell_type": "markdown",
   "metadata": {
    "hidden": true
   },
   "source": [
    "Now all the news outlets, lets start with **HIV4**"
   ]
  },
  {
   "cell_type": "code",
   "execution_count": 41,
   "metadata": {
    "hidden": true
   },
   "outputs": [],
   "source": [
    "for k in news:\n",
    "    exec(f'{k}_score_HV = df_{k}[\"{k}\"].apply(get_pyscore, model=hiv4).drop([\"Positive\", \"Negative\"], axis=1)') \n",
    "    exec(f'{k}_score_HV.columns = [\"polarity_hv_{k}\", \"subjectivity_hv_{k}\"]')"
   ]
  },
  {
   "cell_type": "markdown",
   "metadata": {
    "hidden": true
   },
   "source": [
    "Now the **LM** model"
   ]
  },
  {
   "cell_type": "code",
   "execution_count": 42,
   "metadata": {
    "hidden": true
   },
   "outputs": [],
   "source": [
    "for k in news:\n",
    "    exec(f'{k}_score_LM = df_{k}[\"{k}\"].apply(get_pyscore, model=lm).drop([\"Positive\", \"Negative\"], axis=1)') \n",
    "    exec(f'{k}_score_LM.columns = [\"polarity_lm_{k}\", \"subjectivity_lm_{k}\"]') "
   ]
  },
  {
   "cell_type": "markdown",
   "metadata": {
    "hidden": true
   },
   "source": [
    "Now lets put it together and calculate the mean"
   ]
  },
  {
   "cell_type": "code",
   "execution_count": 43,
   "metadata": {
    "hidden": true
   },
   "outputs": [],
   "source": [
    "for k in news:\n",
    "    exec(f'{k}_scores = pd.concat([{k}_score_HV, {k}_score_LM], axis=1)') \n",
    "    exec(f'{k}_scores = {k}_scores.mean().to_frame().T')"
   ]
  },
  {
   "cell_type": "markdown",
   "metadata": {
    "heading_collapsed": true
   },
   "source": [
    "# 4. Upload on our MySQL Database <a id=\"4\"></a>"
   ]
  },
  {
   "cell_type": "markdown",
   "metadata": {
    "hidden": true
   },
   "source": [
    "Let's finally merge our results from our sentiment analysis and add a timestamp"
   ]
  },
  {
   "cell_type": "code",
   "execution_count": 44,
   "metadata": {
    "hidden": true
   },
   "outputs": [],
   "source": [
    "for k in news:\n",
    "    exec(f'{k}_scores.insert(loc=0, column=\"vader_{k}\", value = vader_{k})')"
   ]
  },
  {
   "cell_type": "markdown",
   "metadata": {
    "hidden": true
   },
   "source": [
    "Lets store it in a Data Frame"
   ]
  },
  {
   "cell_type": "code",
   "execution_count": 45,
   "metadata": {
    "hidden": true
   },
   "outputs": [],
   "source": [
    "daily_scores = pd.DataFrame()\n",
    "for k in news:\n",
    "    exec(f'daily_scores = pd.concat([daily_scores, {k}_scores], axis=1, sort=False)')"
   ]
  },
  {
   "cell_type": "markdown",
   "metadata": {
    "hidden": true
   },
   "source": [
    "##### Lets add a Timestamp so we can use the Headlines as Timeseries"
   ]
  },
  {
   "cell_type": "code",
   "execution_count": 46,
   "metadata": {
    "hidden": true
   },
   "outputs": [
    {
     "data": {
      "text/plain": [
       "'11/27/2020'"
      ]
     },
     "execution_count": 46,
     "metadata": {},
     "output_type": "execute_result"
    }
   ],
   "source": [
    "n = pd.to_datetime('today').strftime(\"%m/%d/%Y\")\n",
    "n"
   ]
  },
  {
   "cell_type": "code",
   "execution_count": 47,
   "metadata": {
    "hidden": true
   },
   "outputs": [],
   "source": [
    "daily_scores.insert(loc=0, column='Timestamp', value=n)"
   ]
  },
  {
   "cell_type": "code",
   "execution_count": 48,
   "metadata": {
    "hidden": true,
    "scrolled": true
   },
   "outputs": [
    {
     "data": {
      "text/html": [
       "<div>\n",
       "<style scoped>\n",
       "    .dataframe tbody tr th:only-of-type {\n",
       "        vertical-align: middle;\n",
       "    }\n",
       "\n",
       "    .dataframe tbody tr th {\n",
       "        vertical-align: top;\n",
       "    }\n",
       "\n",
       "    .dataframe thead th {\n",
       "        text-align: right;\n",
       "    }\n",
       "</style>\n",
       "<table border=\"1\" class=\"dataframe\">\n",
       "  <thead>\n",
       "    <tr style=\"text-align: right;\">\n",
       "      <th></th>\n",
       "      <th>Timestamp</th>\n",
       "      <th>vader_bild</th>\n",
       "      <th>polarity_hv_bild</th>\n",
       "      <th>subjectivity_hv_bild</th>\n",
       "      <th>polarity_lm_bild</th>\n",
       "      <th>subjectivity_lm_bild</th>\n",
       "      <th>vader_spiegel</th>\n",
       "      <th>polarity_hv_spiegel</th>\n",
       "      <th>subjectivity_hv_spiegel</th>\n",
       "      <th>polarity_lm_spiegel</th>\n",
       "      <th>...</th>\n",
       "      <th>vader_nyt_b</th>\n",
       "      <th>polarity_hv_nyt_b</th>\n",
       "      <th>subjectivity_hv_nyt_b</th>\n",
       "      <th>polarity_lm_nyt_b</th>\n",
       "      <th>subjectivity_lm_nyt_b</th>\n",
       "      <th>vader_nyt_t</th>\n",
       "      <th>polarity_hv_nyt_t</th>\n",
       "      <th>subjectivity_hv_nyt_t</th>\n",
       "      <th>polarity_lm_nyt_t</th>\n",
       "      <th>subjectivity_lm_nyt_t</th>\n",
       "    </tr>\n",
       "  </thead>\n",
       "  <tbody>\n",
       "    <tr>\n",
       "      <th>0</th>\n",
       "      <td>11/27/2020</td>\n",
       "      <td>-0.213992</td>\n",
       "      <td>-0.444444</td>\n",
       "      <td>0.569444</td>\n",
       "      <td>-0.25</td>\n",
       "      <td>0.097222</td>\n",
       "      <td>-0.074993</td>\n",
       "      <td>-0.297619</td>\n",
       "      <td>0.356888</td>\n",
       "      <td>-0.285714</td>\n",
       "      <td>...</td>\n",
       "      <td>0.070551</td>\n",
       "      <td>0.161905</td>\n",
       "      <td>0.293605</td>\n",
       "      <td>-0.028571</td>\n",
       "      <td>0.060408</td>\n",
       "      <td>0.010943</td>\n",
       "      <td>0.072464</td>\n",
       "      <td>0.26765</td>\n",
       "      <td>-0.086956</td>\n",
       "      <td>0.079762</td>\n",
       "    </tr>\n",
       "  </tbody>\n",
       "</table>\n",
       "<p>1 rows × 56 columns</p>\n",
       "</div>"
      ],
      "text/plain": [
       "    Timestamp  vader_bild  polarity_hv_bild  subjectivity_hv_bild  \\\n",
       "0  11/27/2020   -0.213992         -0.444444              0.569444   \n",
       "\n",
       "   polarity_lm_bild  subjectivity_lm_bild  vader_spiegel  polarity_hv_spiegel  \\\n",
       "0             -0.25              0.097222      -0.074993            -0.297619   \n",
       "\n",
       "   subjectivity_hv_spiegel  polarity_lm_spiegel  ...  vader_nyt_b  \\\n",
       "0                 0.356888            -0.285714  ...     0.070551   \n",
       "\n",
       "   polarity_hv_nyt_b  subjectivity_hv_nyt_b  polarity_lm_nyt_b  \\\n",
       "0           0.161905               0.293605          -0.028571   \n",
       "\n",
       "   subjectivity_lm_nyt_b  vader_nyt_t  polarity_hv_nyt_t  \\\n",
       "0               0.060408     0.010943           0.072464   \n",
       "\n",
       "   subjectivity_hv_nyt_t  polarity_lm_nyt_t  subjectivity_lm_nyt_t  \n",
       "0                0.26765          -0.086956               0.079762  \n",
       "\n",
       "[1 rows x 56 columns]"
      ]
     },
     "execution_count": 48,
     "metadata": {},
     "output_type": "execute_result"
    }
   ],
   "source": [
    "daily_scores"
   ]
  },
  {
   "cell_type": "code",
   "execution_count": null,
   "metadata": {
    "hidden": true
   },
   "outputs": [],
   "source": [
    "############### CONFIGURE THIS ###################\n",
    "# Open database connection\n",
    "\n",
    "# Credentials to database connection\n",
    "user = 'sql7372795'\n",
    "passw = 'tbd'\n",
    "host =  'sql7.freemysqlhosting.net'\n",
    "database = 'sql7372795'\n",
    "\n",
    "\n",
    "# Create SQLAlchemy engine to connect to MySQL Database\n",
    "engine = create_engine(\"mysql+pymysql://{user}:{pw}@{host}/{db}\".format(host=host, db=database, user=user, pw=passw))"
   ]
  },
  {
   "cell_type": "code",
   "execution_count": null,
   "metadata": {
    "hidden": true
   },
   "outputs": [],
   "source": [
    "daily_scores.to_sql('scores', engine, if_exists = 'append')"
   ]
  },
  {
   "cell_type": "markdown",
   "metadata": {
    "hidden": true
   },
   "source": [
    "Now we could schedule daily parsing and uploads!"
   ]
  },
  {
   "cell_type": "markdown",
   "metadata": {
    "heading_collapsed": true,
    "slideshow": {
     "slide_type": "slide"
    }
   },
   "source": [
    "# 5. Schedule daily runs as .py script <a id=\"5\"></a>"
   ]
  },
  {
   "cell_type": "markdown",
   "metadata": {
    "hidden": true
   },
   "source": [
    "##### To create our final database, we will run the crucial parts of our notebook as a .py script \n",
    "\n",
    "- HTML Parsing\n",
    "- Daily ```VADER``` Scores\n",
    "- Daily ```Pysentiment``` Scores \n",
    "- Upload (```append```) to our MySQL Database\n",
    "\n",
    "All the parts of our exploratory data analysis are obviously not needed for the daily runs."
   ]
  },
  {
   "cell_type": "markdown",
   "metadata": {
    "hidden": true
   },
   "source": [
    "##### Update\n",
    "Due to our \"free\" SQL Database trying to charge money to continue their service and also every \"free\" server-based script scheduling asked immediately for a credit card number, we run the script daily local on a laptop at the same time (in the morning before markets opened)."
   ]
  },
  {
   "cell_type": "markdown",
   "metadata": {
    "heading_collapsed": true,
    "slideshow": {
     "slide_type": "slide"
    }
   },
   "source": [
    "# 6. Analysis of our unique dataset <a id=\"6\"></a>"
   ]
  },
  {
   "cell_type": "markdown",
   "metadata": {
    "hidden": true
   },
   "source": [
    "##### Our main goal is to compares our different scores of our timeseries against german financial markets\n",
    "\n",
    "We will compare:\n",
    "- ```VADER``` Score\n",
    "- Polarity and Subjectivity ```Pysentiment HIV-4``` Scores \n",
    "- Polarity and Subjectivity ```Pysentiment LM``` Scores \n",
    "\n",
    "I am very excited to see our results in a view weeks!"
   ]
  },
  {
   "cell_type": "markdown",
   "metadata": {
    "hidden": true
   },
   "source": [
    "##### Why do we run the script before the markets open? Leading Indicator vs Lagging Indicator\n",
    "**IF** there is a correlation, we would need to know wether the sentiment influences the markets or the other way around.\n",
    "If we schedule the script before the markets are open and within our dataset the sentiment proves to be a leading indicator, we can leverage this by running the script as a market indicator verify it by paper trading."
   ]
  },
  {
   "cell_type": "markdown",
   "metadata": {
    "hidden": true
   },
   "source": [
    "#### Normalized Dataframes for more robust statistics\n",
    "\n",
    "**Z-score** (a.k.a. *Standard score*) is the number of standard deviations ($\\sigma$) by which the value ($x$) of a raw score (i.e., an observed value or data point) is above or below the mean value ($\\mu$) of what is being observed or measured.\n",
    "\n",
    "\n",
    "\n",
    "$$ \n",
    "z = \\frac{x - \\mu }{\\sigma} \\\\\n",
    "$$\n",
    "\n",
    "$z$ = z-Score;\n",
    "$x$ = value;\n",
    "$\\mu$ = mean;\n",
    "$\\sigma$ = standard deviation"
   ]
  },
  {
   "cell_type": "markdown",
   "metadata": {
    "heading_collapsed": true,
    "slideshow": {
     "slide_type": "slide"
    }
   },
   "source": [
    "# 7. Outlook <a id=\"7\"></a>"
   ]
  },
  {
   "cell_type": "markdown",
   "metadata": {
    "hidden": true
   },
   "source": [
    "The preliminary results of our ```VADER```  and ```pysentiment``` analysis are quite encouraging. But we will have to wait until our dataset has a statistically significant size.\n",
    "\n",
    "**Preliminary thoughts of critique:** \n",
    "- We started our data collection in the midst of one of the most controversial elections (and the markets didn't react as expectad throughout the pandemic)\n",
    "- The articles didn't change daily for every news outlet - not a reliable leading indicator (maybe social media pages from news outlets are faster?)\n",
    "- The articles didn't always focus on finance related subjects (maybe only the financial section next time?)\n",
    "- No parsing for mentioned stocks\n",
    "- No parsing for user interaction (but do *those* users even participate in financial markets?)"
   ]
  },
  {
   "cell_type": "markdown",
   "metadata": {
    "slideshow": {
     "slide_type": "slide"
    }
   },
   "source": [
    "# Thank you for completing this Notebook!"
   ]
  },
  {
   "cell_type": "markdown",
   "metadata": {},
   "source": [
    "<hr>\n",
    "<h5>\n",
    "<p> <center>  <font color='gray'> Jupyter Notebook by </font> Jonas Gottal </center></p>\n",
    "</h5>"
   ]
  }
 ],
 "metadata": {
  "kernelspec": {
   "display_name": "Python 3",
   "language": "python",
   "name": "python3"
  },
  "language_info": {
   "codemirror_mode": {
    "name": "ipython",
    "version": 3
   },
   "file_extension": ".py",
   "mimetype": "text/x-python",
   "name": "python",
   "nbconvert_exporter": "python",
   "pygments_lexer": "ipython3",
   "version": "3.8.3"
  }
 },
 "nbformat": 4,
 "nbformat_minor": 4
}
