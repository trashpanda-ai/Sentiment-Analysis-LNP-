{
 "cells": [
  {
   "cell_type": "code",
   "execution_count": 1,
   "metadata": {
    "code_folding": []
   },
   "outputs": [],
   "source": [
    "#!pip install html5lib\n",
    "#!pip install ipython-sql\n",
    "#!pip install nltk\n",
    "#!pip install pysentiment2\n",
    "\n",
    "import requests\n",
    "from   bs4 import BeautifulSoup\n",
    "import html5lib\n",
    "import time\n",
    "import numpy as np\n",
    "import pandas as pd\n",
    "import matplotlib as mp\n",
    "import matplotlib.pyplot as plt\n",
    "import dtale\n",
    "import sqlalchemy\n",
    "from sqlalchemy import create_engine\n",
    "import pymysql\n",
    "pymysql.install_as_MySQLdb()\n",
    "import pysentiment2 as ps\n",
    "import nltk\n",
    "import re\n",
    "from collections import Counter\n",
    "from nltk.sentiment.vader import SentimentIntensityAnalyzer as SIA\n",
    "import seaborn as sns"
   ]
  },
  {
   "cell_type": "code",
   "execution_count": 2,
   "metadata": {},
   "outputs": [
    {
     "data": {
      "text/plain": [
       "200"
      ]
     },
     "execution_count": 2,
     "metadata": {},
     "output_type": "execute_result"
    }
   ],
   "source": [
    "url = \"https://www.bild.de/politik/international/bild-international/home-44225950.bild.html\"\n",
    "\n",
    "content = requests.get(url = url, headers = {'Accept': 'text/html'}, timeout=(3, 27))\n",
    "\n",
    "content.status_code"
   ]
  },
  {
   "cell_type": "code",
   "execution_count": 3,
   "metadata": {
    "scrolled": true
   },
   "outputs": [
    {
     "name": "stdout",
     "output_type": "stream",
     "text": [
      "25                                                 bild\n",
      "0  INTERNATIONAL HOLOCAUST REMEMBRANCE DAY :  How...\n",
      "1  BILD exclusive :  „Putin knows that Navalny is...\n",
      "2  BILD EXCLUSIVE :  With this letter, the vaccin...\n",
      "3  Interview with the US Ambassador to Germany : ...\n",
      "4  Fiancé of Jamal Khashoggi :  “I’m still waitin...\n"
     ]
    }
   ],
   "source": [
    "bild = BeautifulSoup(content.content, 'html.parser')\n",
    "\n",
    "headlines = bild.find_all('h3')\n",
    "\n",
    "df_bild = pd.DataFrame([i.text for i in headlines], columns=[\"bild\"]).replace(\"\\n\", \"\", regex=True).replace(\"\\t\", \"\", regex=True)\n",
    "print (df_bild.size, df_bild.head())"
   ]
  },
  {
   "cell_type": "code",
   "execution_count": 4,
   "metadata": {},
   "outputs": [
    {
     "data": {
      "text/plain": [
       "200"
      ]
     },
     "execution_count": 4,
     "metadata": {},
     "output_type": "execute_result"
    }
   ],
   "source": [
    "url = \"https://www.spiegel.de/international/\"\n",
    "\n",
    "content = requests.get(url = url, headers = {'Accept': 'text/html'}, timeout=(3, 27))\n",
    "\n",
    "content.status_code"
   ]
  },
  {
   "cell_type": "code",
   "execution_count": 5,
   "metadata": {
    "scrolled": false
   },
   "outputs": [
    {
     "name": "stdout",
     "output_type": "stream",
     "text": [
      "31                                              spiegel\n",
      "0  Deploying Codewords and Fake Online Shops agai...\n",
      "1  \"It Appears that Bribe Money Is Coming from Ge...\n",
      "2  \"We Need To Stand for Freedom and Openness – A...\n",
      "3  Croatia Conducts Illegal Pushbacks of Vulnerab...\n",
      "4  Hopes Are High for the Technology that Is Lead...\n"
     ]
    }
   ],
   "source": [
    "spiegel = BeautifulSoup(content.content, 'html.parser')\n",
    "\n",
    "headlines = spiegel.find_all(attrs={'class':'align-middle'})\n",
    "\n",
    "df_spiegel = pd.DataFrame([i.text for i in headlines], columns=[\"spiegel\"])\n",
    "print (df_spiegel.size, df_spiegel.head())"
   ]
  },
  {
   "cell_type": "code",
   "execution_count": 6,
   "metadata": {},
   "outputs": [
    {
     "data": {
      "text/plain": [
       "200"
      ]
     },
     "execution_count": 6,
     "metadata": {},
     "output_type": "execute_result"
    }
   ],
   "source": [
    "url = \"https://www.zeit.de/english/index\"\n",
    "\n",
    "content = requests.get(url = url, headers = {'Accept': 'text/html'}, timeout=(3, 27))\n",
    "\n",
    "content.status_code"
   ]
  },
  {
   "cell_type": "code",
   "execution_count": 7,
   "metadata": {
    "scrolled": false
   },
   "outputs": [
    {
     "name": "stdout",
     "output_type": "stream",
     "text": [
      "20                                                 zeit\n",
      "0  \"A Finance Minister Merz would be a systemic r...\n",
      "1                                    Only In Germany\n",
      "2                   The Europeanization of Football \n",
      "3                            The Fairy Tale Grandson\n",
      "4                                Americans, go home?\n"
     ]
    }
   ],
   "source": [
    "zeit = BeautifulSoup(content.content, 'html.parser')\n",
    "\n",
    "headlines = zeit.find_all(attrs={'class':'zon-teaser-standard__title'})\n",
    "\n",
    "df_zeit = pd.DataFrame([i.text for i in headlines], columns=[\"zeit\"])\n",
    "print (df_zeit.size, df_zeit.head())"
   ]
  },
  {
   "cell_type": "code",
   "execution_count": 8,
   "metadata": {},
   "outputs": [
    {
     "data": {
      "text/plain": [
       "200"
      ]
     },
     "execution_count": 8,
     "metadata": {},
     "output_type": "execute_result"
    }
   ],
   "source": [
    "url = \"https://www.faz.net/english/\"\n",
    "\n",
    "content = requests.get(url = url, headers = {'Accept': 'text/html'}, timeout=(3, 27))\n",
    "\n",
    "content.status_code"
   ]
  },
  {
   "cell_type": "code",
   "execution_count": 9,
   "metadata": {
    "scrolled": true
   },
   "outputs": [
    {
     "name": "stdout",
     "output_type": "stream",
     "text": [
      "20                                                  faz\n",
      "0            „We can’t do business as usual“        \n",
      "1  „We have to fight misinformation because peopl...\n",
      "2                  Do not ruin the Internet!        \n",
      "3                              The Black Axe        \n",
      "4  Time for a German-British Friendship Treaty   ...\n"
     ]
    }
   ],
   "source": [
    "faz = BeautifulSoup(content.content, 'html.parser')\n",
    "\n",
    "headlines = faz.find_all(attrs={'class':'tsr-Base_HeadlineText'})\n",
    "\n",
    "df_faz = pd.DataFrame([i.text for i in headlines], columns=[\"faz\"]).replace(\"\\n\", \"\", regex=True).replace(\"\\t\", \"\", regex=True)\n",
    "print (df_faz.size, df_faz.head())"
   ]
  },
  {
   "cell_type": "code",
   "execution_count": 10,
   "metadata": {},
   "outputs": [
    {
     "data": {
      "text/plain": [
       "200"
      ]
     },
     "execution_count": 10,
     "metadata": {},
     "output_type": "execute_result"
    }
   ],
   "source": [
    "url = \"https://www.bbc.com/news\"\n",
    "\n",
    "content = requests.get(url = url, headers = {'Accept': 'text/html'}, timeout=(3, 27))\n",
    "\n",
    "content.status_code"
   ]
  },
  {
   "cell_type": "code",
   "execution_count": 11,
   "metadata": {
    "scrolled": true
   },
   "outputs": [
    {
     "name": "stdout",
     "output_type": "stream",
     "text": [
      "54                                                  bbc\n",
      "0          Dozens dead amid historic Canada heatwave\n",
      "1          Dozens dead amid historic Canada heatwave\n",
      "2   Letter warned residents of damage to Miami block\n",
      "3  Half of Australians in lockdown amid vaccine c...\n",
      "4  Ethiopian rebels gain more ground in war-torn ...\n"
     ]
    }
   ],
   "source": [
    "bbc = BeautifulSoup(content.content, 'html.parser')\n",
    "\n",
    "headlines = bbc.find_all('h3')\n",
    "\n",
    "df_bbc = pd.DataFrame([i.text for i in headlines], columns=[\"bbc\"])\n",
    "print (df_bbc.size, df_bbc.head())"
   ]
  },
  {
   "cell_type": "code",
   "execution_count": 12,
   "metadata": {},
   "outputs": [
    {
     "data": {
      "text/plain": [
       "200"
      ]
     },
     "execution_count": 12,
     "metadata": {},
     "output_type": "execute_result"
    }
   ],
   "source": [
    "url = \"https://www.cnn.com/business\"\n",
    "\n",
    "content = requests.get(url = url, headers = {'Accept': 'text/html'}, timeout=(3, 27))\n",
    "\n",
    "content.status_code"
   ]
  },
  {
   "cell_type": "code",
   "execution_count": 13,
   "metadata": {
    "scrolled": true
   },
   "outputs": [
    {
     "name": "stdout",
     "output_type": "stream",
     "text": [
      "35                                                  cnn\n",
      "0  China is facing its worst power shortage in a ...\n",
      "1  Big Tech is booming again, and the bull run ap...\n",
      "2  Elon Musk touts SpaceX internet growth, says g...\n",
      "3  US government requires automakers to report dr...\n",
      "4  First-year analysts at JPMorgan will now make ...\n"
     ]
    }
   ],
   "source": [
    "cnn = BeautifulSoup(content.content, 'html.parser')\n",
    "\n",
    "headlines = cnn.find_all(attrs={'class': 'cd__headline'})\n",
    "\n",
    "df_cnn = pd.DataFrame([i.text for i in headlines], columns=[\"cnn\"])\n",
    "print (df_cnn.size, df_cnn.head())"
   ]
  },
  {
   "cell_type": "code",
   "execution_count": 14,
   "metadata": {},
   "outputs": [
    {
     "data": {
      "text/plain": [
       "200"
      ]
     },
     "execution_count": 14,
     "metadata": {},
     "output_type": "execute_result"
    }
   ],
   "source": [
    "url = \"https://www.cnbc.com\"\n",
    "\n",
    "content = requests.get(url = url, headers = {'Accept': 'text/html'}, timeout=(3, 27))\n",
    "\n",
    "content.status_code"
   ]
  },
  {
   "cell_type": "code",
   "execution_count": 15,
   "metadata": {
    "scrolled": false
   },
   "outputs": [
    {
     "name": "stdout",
     "output_type": "stream",
     "text": [
      "34                                                 cnbc\n",
      "0  Warren Buffett says the pandemic has had an 'e...\n",
      "1  U.S. stock futures are little changed as the m...\n",
      "2  Stocks should add to gains in the second half,...\n",
      "3  A key indicator shows we are past peak inflati...\n",
      "4  Goldman Sachs picks 12 global stocks to buy ah...\n"
     ]
    }
   ],
   "source": [
    "cnbc = BeautifulSoup(content.content, 'html.parser')\n",
    "\n",
    "headlines = cnbc.find_all(attrs={'class':'Card-title'})\n",
    "\n",
    "df_cnbc = pd.DataFrame([i.text for i in headlines], columns=[\"cnbc\"])\n",
    "print (df_cnbc.size, df_cnbc.head())"
   ]
  },
  {
   "cell_type": "code",
   "execution_count": 16,
   "metadata": {},
   "outputs": [
    {
     "data": {
      "text/plain": [
       "200"
      ]
     },
     "execution_count": 16,
     "metadata": {},
     "output_type": "execute_result"
    }
   ],
   "source": [
    "url = \"https://www.nytimes.com/section/world\"\n",
    "\n",
    "content = requests.get(url = url, headers = {'Accept': 'text/html'}, timeout=(3, 27))\n",
    "\n",
    "content.status_code"
   ]
  },
  {
   "cell_type": "code",
   "execution_count": 17,
   "metadata": {},
   "outputs": [
    {
     "name": "stdout",
     "output_type": "stream",
     "text": [
      "33                                                nyt_w\n",
      "0  ‘A Form of Brainwashing’: China Remakes Hong Kong\n",
      "1  Jubilant Tigray Capital Greets Insurgents Afte...\n",
      "2  North Korea reports a ‘great crisis’ in its Co...\n",
      "3  Security in Afghanistan Is Decaying, U.S. Gene...\n",
      "4  South African Court Orders Arrest of Ex-Presid...\n"
     ]
    }
   ],
   "source": [
    "nyt_w = BeautifulSoup(content.content, 'html.parser')\n",
    "\n",
    "headlines = nyt_w.find_all(name=\"h2\")\n",
    "\n",
    "df_nyt_w = pd.DataFrame([i.text for i in headlines], columns=[\"nyt_w\"]).iloc[1:].reset_index(drop=True)\n",
    "print (df_nyt_w.size, df_nyt_w.head())"
   ]
  },
  {
   "cell_type": "code",
   "execution_count": 18,
   "metadata": {},
   "outputs": [
    {
     "data": {
      "text/plain": [
       "200"
      ]
     },
     "execution_count": 18,
     "metadata": {},
     "output_type": "execute_result"
    }
   ],
   "source": [
    "url = \"https://www.nytimes.com/section/politics\"\n",
    "\n",
    "content = requests.get(url = url, headers = {'Accept': 'text/html'}, timeout=(3, 27))\n",
    "\n",
    "content.status_code"
   ]
  },
  {
   "cell_type": "code",
   "execution_count": 19,
   "metadata": {},
   "outputs": [
    {
     "name": "stdout",
     "output_type": "stream",
     "text": [
      "18                                                nyt_p\n",
      "0  Wisconsin G.O.P. Wrestles With Just How Much t...\n",
      "1  No. 3 House Democrat Steps Into Ohio Race to H...\n",
      "2  House Passes Bill to Speed Visas for Afghans I...\n",
      "3  Biden Faces Intense Cross Currents in Iran Policy\n",
      "4  Fed Unity Cracks as Inflation Rises and Offici...\n"
     ]
    }
   ],
   "source": [
    "nyt_p = BeautifulSoup(content.content, 'html.parser')\n",
    "\n",
    "headlines = nyt_p.find_all(name=\"h2\")\n",
    "\n",
    "df_nyt_p = pd.DataFrame([i.text for i in headlines], columns=[\"nyt_p\"]).iloc[1:].reset_index(drop=True)\n",
    "print (df_nyt_p.size, df_nyt_p.head())"
   ]
  },
  {
   "cell_type": "code",
   "execution_count": 20,
   "metadata": {},
   "outputs": [
    {
     "data": {
      "text/plain": [
       "200"
      ]
     },
     "execution_count": 20,
     "metadata": {},
     "output_type": "execute_result"
    }
   ],
   "source": [
    "url = \"https://www.nytimes.com/section/business\"\n",
    "\n",
    "content = requests.get(url = url, headers = {'Accept': 'text/html'}, timeout=(3, 27))\n",
    "\n",
    "content.status_code"
   ]
  },
  {
   "cell_type": "code",
   "execution_count": 21,
   "metadata": {},
   "outputs": [
    {
     "name": "stdout",
     "output_type": "stream",
     "text": [
      "40                                                nyt_b\n",
      "0  Congress Faces Renewed Pressure to ‘Modernize ...\n",
      "1  Lower Rents? Check. Speakeasy? Check. How Offi...\n",
      "2  Minor League Parks, Stripped of America’s Past...\n",
      "3  Fox News agrees to a $1 million penalty after ...\n",
      "4  Boom Times for Lawyers as Washington Pursues B...\n"
     ]
    }
   ],
   "source": [
    "nyt_b = BeautifulSoup(content.content, 'html.parser')\n",
    "\n",
    "headlines = nyt_b.find_all(name=\"h2\")\n",
    "\n",
    "df_nyt_b = pd.DataFrame([i.text for i in headlines], columns=[\"nyt_b\"]).iloc[1:].reset_index(drop=True)\n",
    "print (df_nyt_b.size, df_nyt_b.head())"
   ]
  },
  {
   "cell_type": "code",
   "execution_count": 22,
   "metadata": {},
   "outputs": [
    {
     "data": {
      "text/plain": [
       "200"
      ]
     },
     "execution_count": 22,
     "metadata": {},
     "output_type": "execute_result"
    }
   ],
   "source": [
    "url = \"https://www.nytimes.com/section/technology\"\n",
    "\n",
    "content = requests.get(url = url, headers = {'Accept': 'text/html'}, timeout=(3, 27))\n",
    "\n",
    "content.status_code"
   ]
  },
  {
   "cell_type": "code",
   "execution_count": 23,
   "metadata": {
    "scrolled": true
   },
   "outputs": [
    {
     "name": "stdout",
     "output_type": "stream",
     "text": [
      "23                                                nyt_t\n",
      "0  Boom Times for Lawyers as Washington Pursues B...\n",
      "1  Judge Throws Out 2 Antitrust Cases Against Fac...\n",
      "2                       What Won’t the Nelk Boys Do?\n",
      "3                   Apple’s Strategy Bends the World\n",
      "4                                Personal Technology\n"
     ]
    }
   ],
   "source": [
    "nyt_t = BeautifulSoup(content.content, 'html.parser')\n",
    "\n",
    "headlines = nyt_t.find_all(name=\"h2\")\n",
    "\n",
    "df_nyt_t = pd.DataFrame([i.text for i in headlines], columns=[\"nyt_t\"]).iloc[1:].reset_index(drop=True)\n",
    "print (df_nyt_t.size, df_nyt_t.head())"
   ]
  },
  {
   "cell_type": "code",
   "execution_count": 24,
   "metadata": {},
   "outputs": [
    {
     "name": "stderr",
     "output_type": "stream",
     "text": [
      "[nltk_data] Downloading package vader_lexicon to\n",
      "[nltk_data]     /Users/jonas/nltk_data...\n",
      "[nltk_data]   Package vader_lexicon is already up-to-date!\n"
     ]
    }
   ],
   "source": [
    "nltk.download(\"vader_lexicon\")\n",
    "\n",
    "def get_score(row):\n",
    "    sid=SIA()\n",
    "    score=sid.polarity_scores(row)\n",
    "    return score[\"compound\"]"
   ]
  },
  {
   "cell_type": "code",
   "execution_count": 25,
   "metadata": {},
   "outputs": [],
   "source": [
    "news = [\"bild\", \"spiegel\", \"zeit\", \"faz\", \"bbc\", \"cnn\", \"cnbc\", \"nyt_w\", \"nyt_p\", \"nyt_b\", \"nyt_t\"]\n",
    "for k in news:\n",
    "    exec(f'{k}_score = df_{k}[\"{k}\"].apply(get_score)')"
   ]
  },
  {
   "cell_type": "markdown",
   "metadata": {},
   "source": [
    "But because the number of Articles differ from news outlet to news outlet, we will only include the more robust mean of our scores:"
   ]
  },
  {
   "cell_type": "code",
   "execution_count": 26,
   "metadata": {},
   "outputs": [],
   "source": [
    "for k in news:\n",
    "    exec(f'vader_{k} = {k}_score.mean()') "
   ]
  },
  {
   "cell_type": "markdown",
   "metadata": {},
   "source": [
    "Now let's define our new models"
   ]
  },
  {
   "cell_type": "code",
   "execution_count": 27,
   "metadata": {},
   "outputs": [],
   "source": [
    "hiv4 = ps.HIV4()\n",
    "lm = ps.LM()"
   ]
  },
  {
   "cell_type": "code",
   "execution_count": 28,
   "metadata": {},
   "outputs": [],
   "source": [
    "def get_pyscore(row,model):\n",
    "    return pd.Series(model.get_score(model.tokenize(text=row)))"
   ]
  },
  {
   "cell_type": "markdown",
   "metadata": {},
   "source": [
    "Now the other models, lets start with hiv4"
   ]
  },
  {
   "cell_type": "code",
   "execution_count": 29,
   "metadata": {},
   "outputs": [],
   "source": [
    "for k in news:\n",
    "    exec(f'{k}_score_HV = df_{k}[\"{k}\"].apply(get_pyscore, model=hiv4).drop([\"Positive\", \"Negative\"], axis=1)') \n",
    "    exec(f'{k}_score_HV.columns = [\"Polarity_HV_{k}\", \"Subjectivity_HV_{k}\"]')"
   ]
  },
  {
   "cell_type": "markdown",
   "metadata": {},
   "source": [
    "Now the lm model"
   ]
  },
  {
   "cell_type": "code",
   "execution_count": 30,
   "metadata": {},
   "outputs": [],
   "source": [
    "for k in news:\n",
    "    exec(f'{k}_score_LM = df_{k}[\"{k}\"].apply(get_pyscore, model=lm).drop([\"Positive\", \"Negative\"], axis=1)') \n",
    "    exec(f'{k}_score_LM.columns = [\"Polarity_LM_{k}\", \"Subjectivity_LM_{k}\"]') "
   ]
  },
  {
   "cell_type": "markdown",
   "metadata": {},
   "source": [
    "Now lets put it together and calculate the mean"
   ]
  },
  {
   "cell_type": "code",
   "execution_count": 31,
   "metadata": {},
   "outputs": [],
   "source": [
    "for k in news:\n",
    "    exec(f'{k}_scores = pd.concat([{k}_score_HV, {k}_score_LM], axis=1)') \n",
    "    exec(f'{k}_scores = {k}_scores.mean().to_frame().T')"
   ]
  },
  {
   "cell_type": "markdown",
   "metadata": {},
   "source": [
    "Now lets put all of our analysis together"
   ]
  },
  {
   "cell_type": "code",
   "execution_count": 32,
   "metadata": {},
   "outputs": [],
   "source": [
    "for k in news:\n",
    "    exec(f'{k}_scores.insert(loc=0, column=\"vader_{k}\", value = vader_{k})')"
   ]
  },
  {
   "cell_type": "markdown",
   "metadata": {},
   "source": [
    "Lets store it in a Data Frame"
   ]
  },
  {
   "cell_type": "code",
   "execution_count": 33,
   "metadata": {},
   "outputs": [],
   "source": [
    "daily_scores = pd.DataFrame()\n",
    "for k in news:\n",
    "    exec(f'daily_scores = pd.concat([daily_scores, {k}_scores], axis=1, sort=False)')"
   ]
  },
  {
   "cell_type": "markdown",
   "metadata": {},
   "source": [
    "And we add a Timestamp"
   ]
  },
  {
   "cell_type": "code",
   "execution_count": 34,
   "metadata": {},
   "outputs": [
    {
     "data": {
      "text/plain": [
       "'06/30/2021'"
      ]
     },
     "execution_count": 34,
     "metadata": {},
     "output_type": "execute_result"
    }
   ],
   "source": [
    "n = pd.to_datetime('today').strftime(\"%m/%d/%Y\")\n",
    "n"
   ]
  },
  {
   "cell_type": "code",
   "execution_count": 35,
   "metadata": {},
   "outputs": [],
   "source": [
    "daily_scores.insert(loc=0, column='Timestamp', value=n)"
   ]
  },
  {
   "cell_type": "code",
   "execution_count": 36,
   "metadata": {},
   "outputs": [
    {
     "data": {
      "text/html": [
       "<div>\n",
       "<style scoped>\n",
       "    .dataframe tbody tr th:only-of-type {\n",
       "        vertical-align: middle;\n",
       "    }\n",
       "\n",
       "    .dataframe tbody tr th {\n",
       "        vertical-align: top;\n",
       "    }\n",
       "\n",
       "    .dataframe thead th {\n",
       "        text-align: right;\n",
       "    }\n",
       "</style>\n",
       "<table border=\"1\" class=\"dataframe\">\n",
       "  <thead>\n",
       "    <tr style=\"text-align: right;\">\n",
       "      <th></th>\n",
       "      <th>Timestamp</th>\n",
       "      <th>vader_bild</th>\n",
       "      <th>Polarity_HV_bild</th>\n",
       "      <th>Subjectivity_HV_bild</th>\n",
       "      <th>Polarity_LM_bild</th>\n",
       "      <th>Subjectivity_LM_bild</th>\n",
       "      <th>vader_spiegel</th>\n",
       "      <th>Polarity_HV_spiegel</th>\n",
       "      <th>Subjectivity_HV_spiegel</th>\n",
       "      <th>Polarity_LM_spiegel</th>\n",
       "      <th>...</th>\n",
       "      <th>vader_nyt_b</th>\n",
       "      <th>Polarity_HV_nyt_b</th>\n",
       "      <th>Subjectivity_HV_nyt_b</th>\n",
       "      <th>Polarity_LM_nyt_b</th>\n",
       "      <th>Subjectivity_LM_nyt_b</th>\n",
       "      <th>vader_nyt_t</th>\n",
       "      <th>Polarity_HV_nyt_t</th>\n",
       "      <th>Subjectivity_HV_nyt_t</th>\n",
       "      <th>Polarity_LM_nyt_t</th>\n",
       "      <th>Subjectivity_LM_nyt_t</th>\n",
       "    </tr>\n",
       "  </thead>\n",
       "  <tbody>\n",
       "    <tr>\n",
       "      <th>0</th>\n",
       "      <td>06/30/2021</td>\n",
       "      <td>-0.11868</td>\n",
       "      <td>-0.266666</td>\n",
       "      <td>0.282889</td>\n",
       "      <td>-0.32</td>\n",
       "      <td>0.107397</td>\n",
       "      <td>-0.038232</td>\n",
       "      <td>-0.016129</td>\n",
       "      <td>0.252534</td>\n",
       "      <td>-0.290322</td>\n",
       "      <td>...</td>\n",
       "      <td>0.017873</td>\n",
       "      <td>0.15</td>\n",
       "      <td>0.255833</td>\n",
       "      <td>-0.125</td>\n",
       "      <td>0.066458</td>\n",
       "      <td>0.041843</td>\n",
       "      <td>2.173910e-08</td>\n",
       "      <td>0.219738</td>\n",
       "      <td>0.086956</td>\n",
       "      <td>0.091718</td>\n",
       "    </tr>\n",
       "  </tbody>\n",
       "</table>\n",
       "<p>1 rows × 56 columns</p>\n",
       "</div>"
      ],
      "text/plain": [
       "    Timestamp  vader_bild  Polarity_HV_bild  Subjectivity_HV_bild  \\\n",
       "0  06/30/2021    -0.11868         -0.266666              0.282889   \n",
       "\n",
       "   Polarity_LM_bild  Subjectivity_LM_bild  vader_spiegel  Polarity_HV_spiegel  \\\n",
       "0             -0.32              0.107397      -0.038232            -0.016129   \n",
       "\n",
       "   Subjectivity_HV_spiegel  Polarity_LM_spiegel  ...  vader_nyt_b  \\\n",
       "0                 0.252534            -0.290322  ...     0.017873   \n",
       "\n",
       "   Polarity_HV_nyt_b  Subjectivity_HV_nyt_b  Polarity_LM_nyt_b  \\\n",
       "0               0.15               0.255833             -0.125   \n",
       "\n",
       "   Subjectivity_LM_nyt_b  vader_nyt_t  Polarity_HV_nyt_t  \\\n",
       "0               0.066458     0.041843       2.173910e-08   \n",
       "\n",
       "   Subjectivity_HV_nyt_t  Polarity_LM_nyt_t  Subjectivity_LM_nyt_t  \n",
       "0               0.219738           0.086956               0.091718  \n",
       "\n",
       "[1 rows x 56 columns]"
      ]
     },
     "execution_count": 36,
     "metadata": {},
     "output_type": "execute_result"
    }
   ],
   "source": [
    "daily_scores"
   ]
  },
  {
   "cell_type": "code",
   "execution_count": 37,
   "metadata": {},
   "outputs": [],
   "source": [
    "daily_scores.to_csv('daily_scores.csv', mode='a', header=False)"
   ]
  }
 ],
 "metadata": {
  "kernelspec": {
   "display_name": "Python 3",
   "language": "python",
   "name": "python3"
  },
  "language_info": {
   "codemirror_mode": {
    "name": "ipython",
    "version": 3
   },
   "file_extension": ".py",
   "mimetype": "text/x-python",
   "name": "python",
   "nbconvert_exporter": "python",
   "pygments_lexer": "ipython3",
   "version": "3.8.3"
  }
 },
 "nbformat": 4,
 "nbformat_minor": 4
}
